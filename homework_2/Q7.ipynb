{
 "cells": [
  {
   "cell_type": "code",
   "execution_count": 121,
   "metadata": {},
   "outputs": [],
   "source": [
    "import scipy.stats as stats"
   ]
  },
  {
   "cell_type": "markdown",
   "metadata": {},
   "source": [
    "Chat GPT generated function:"
   ]
  },
  {
   "cell_type": "code",
   "execution_count": 122,
   "metadata": {},
   "outputs": [],
   "source": [
    "import numpy as np\n",
    "\n",
    "def multivariate_normal_density(x, mu, Sigma):\n",
    "    \"\"\"\n",
    "    Computes the density of a D-dimensional multivariate normal distribution.\n",
    "    \n",
    "    Parameters:\n",
    "    x (numpy.ndarray): D-dimensional vector (1D array).\n",
    "    mu (numpy.ndarray): D-dimensional mean vector (1D array).\n",
    "    Sigma (numpy.ndarray): D×D covariance matrix (2D array).\n",
    "    \n",
    "    Returns:\n",
    "    float: The density of the multivariate normal distribution at x.\n",
    "    \"\"\"\n",
    "    D = len(mu)  # Dimensionality\n",
    "    det_Sigma = np.linalg.det(Sigma)\n",
    "    inv_Sigma = np.linalg.inv(Sigma)\n",
    "    \n",
    "    # Compute the exponent term\n",
    "    diff = x - mu\n",
    "    exponent = -0.5 * np.dot(diff.T, np.dot(inv_Sigma, diff))\n",
    "    \n",
    "    # Compute the normalization constant\n",
    "    normalization = (1 / np.sqrt(((2 * np.pi) ** D) * det_Sigma))\n",
    "    \n",
    "    return normalization * np.exp(exponent)\n"
   ]
  },
  {
   "cell_type": "markdown",
   "metadata": {},
   "source": [
    "Spherical Gaussian (zero covariance, shared variance across dimensions)"
   ]
  },
  {
   "cell_type": "code",
   "execution_count": 123,
   "metadata": {},
   "outputs": [
    {
     "name": "stdout",
     "output_type": "stream",
     "text": [
      "ChatGPT function result: 0.021521158089071728\n",
      "Scipy function result: 0.02152115808907173\n",
      "Difference: 3.469446951953614e-18\n"
     ]
    }
   ],
   "source": [
    "D, variance = 3, 2\n",
    "sigma = variance * np.eye(D)\n",
    "mu, x = np.random.rand(D), np.random.rand(D)\n",
    "\n",
    "ai_output = multivariate_normal_density(x, mu, sigma)\n",
    "scipy_output = stats.multivariate_normal(mean = mu, cov = sigma).pdf(x)\n",
    "print(\"ChatGPT function result:\", ai_output)\n",
    "print(\"Scipy function result:\", scipy_output)\n",
    "print(\"Difference:\", abs(ai_output - scipy_output))\n"
   ]
  },
  {
   "cell_type": "markdown",
   "metadata": {},
   "source": [
    "Diagonal Guassin results (zero covariance, different variance for each dimension)"
   ]
  },
  {
   "cell_type": "code",
   "execution_count": 124,
   "metadata": {},
   "outputs": [
    {
     "name": "stdout",
     "output_type": "stream",
     "text": [
      "ChatGPT function result: 0.10905163988094163\n",
      "Scipy function result: 0.10905163988094166\n",
      "Difference: 2.7755575615628914e-17\n"
     ]
    }
   ],
   "source": [
    "mu, x, variance = np.random.rand(D), np.random.rand(D), np.random.rand(D)\n",
    "sigma = np.diag(variance)\n",
    "\n",
    "ai_output = multivariate_normal_density(x, mu, sigma)\n",
    "scipy_output = stats.multivariate_normal(mean = mu, cov = sigma).pdf(x)\n",
    "print(\"ChatGPT function result:\", ai_output)\n",
    "print(\"Scipy function result:\", scipy_output)\n",
    "print(\"Difference:\", abs(ai_output - scipy_output))\n"
   ]
  },
  {
   "cell_type": "markdown",
   "metadata": {},
   "source": [
    "Full Covariance Gaussian (non-zero covariance, different variance for each dimension)"
   ]
  },
  {
   "cell_type": "code",
   "execution_count": 125,
   "metadata": {},
   "outputs": [
    {
     "name": "stdout",
     "output_type": "stream",
     "text": [
      "ChatGPT function result: 0.0897725894691766\n",
      "Scipy function result: 0.08977258946917659\n",
      "Difference: 1.3877787807814457e-17\n"
     ]
    }
   ],
   "source": [
    "sigma, x = np.random.rand(D, D), np.random.rand(D)\n",
    "cov = np.matmul(sigma, sigma.T)\n",
    "\n",
    "ai_output = multivariate_normal_density(x, mu, cov)\n",
    "scipy_output = stats.multivariate_normal(mean = mu, cov = cov).pdf(x)\n",
    "print(\"ChatGPT function result:\", ai_output)\n",
    "print(\"Scipy function result:\", scipy_output)\n",
    "print(\"Difference:\", abs(ai_output - scipy_output))\n"
   ]
  },
  {
   "cell_type": "markdown",
   "metadata": {},
   "source": [
    "The LLM performed extremely well in its task. We can see that for each testing point above, the results produced by the ChatGPT's function are extremely similar to that of the scipy function. After running the notebook around 10 times, I have seen instances where both functions have no difference or have differences in the range of 10^-14 to 10^-22. I'm surprised that ChatGPT did not find and copy the implementation for the scipy function and use it for creating this new function. We know the LLM didn't copy the scipy function implementation because there are instances where the answers differ, no matter how minimally."
   ]
  }
 ],
 "metadata": {
  "kernelspec": {
   "display_name": "base",
   "language": "python",
   "name": "python3"
  },
  "language_info": {
   "codemirror_mode": {
    "name": "ipython",
    "version": 3
   },
   "file_extension": ".py",
   "mimetype": "text/x-python",
   "name": "python",
   "nbconvert_exporter": "python",
   "pygments_lexer": "ipython3",
   "version": "3.12.3"
  }
 },
 "nbformat": 4,
 "nbformat_minor": 2
}
